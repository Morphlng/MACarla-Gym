{
 "cells": [
  {
   "attachments": {},
   "cell_type": "markdown",
   "metadata": {},
   "source": [
    "This notebook demonstrate how to convert Macad-Gym Dict-like (Json/Dict) configuration to YAML.\n",
    "\n",
    "So that it can be used in MARLlib"
   ]
  },
  {
   "cell_type": "code",
   "execution_count": 1,
   "metadata": {},
   "outputs": [],
   "source": [
    "import yaml\n",
    "import json"
   ]
  },
  {
   "cell_type": "code",
   "execution_count": 2,
   "metadata": {},
   "outputs": [],
   "source": [
    "def dict_to_yaml(d, file_path=\"config.yaml\"):\n",
    "    with open(file_path, \"w\") as f:\n",
    "        yaml.dump(d, f, default_flow_style=False)"
   ]
  },
  {
   "cell_type": "code",
   "execution_count": null,
   "metadata": {},
   "outputs": [],
   "source": [
    "# Convert existing json file to yaml\n",
    "CONFIG_PATH = 'config.json'\n",
    "\n",
    "# Read json file\n",
    "with open(CONFIG_PATH) as f:\n",
    "    config = json.load(f)\n",
    "\n",
    "dict_to_yaml(config)"
   ]
  },
  {
   "cell_type": "code",
   "execution_count": 3,
   "metadata": {},
   "outputs": [],
   "source": [
    "# Convert dict to yaml\n",
    "# The following config is from scenario FollowLeadingVehicle\n",
    "\n",
    "configs = {\n",
    "    \"scenarios\": {\n",
    "        \"map\": \"Town01\",\n",
    "        \"actors\": {\n",
    "            \"car1\": {\n",
    "                \"start\": [107, 133, 0.5],\n",
    "                \"end\": [300, 133, 0.5],\n",
    "            },\n",
    "            \"car2\": {\n",
    "                \"start\": [115, 133, 0.5],\n",
    "                \"end\": [310, 133, 0.5],\n",
    "            }\n",
    "        },\n",
    "        \"num_vehicles\": 0,\n",
    "        \"num_pedestrians\": 0,\n",
    "        \"weather_distribution\": [0],\n",
    "        \"max_steps\": 500\n",
    "    },\n",
    "    \"env\": {\n",
    "        \"server_map\": \"/Game/Carla/Maps/Town01\",\n",
    "        \"render\": True,\n",
    "        \"render_x_res\": 800,\n",
    "        \"render_y_res\": 600,\n",
    "        \"x_res\": 84,\n",
    "        \"y_res\": 84,\n",
    "        \"framestack\": 1,\n",
    "        \"discrete_actions\": True,\n",
    "        \"squash_action_logits\": False,\n",
    "        \"verbose\": False,\n",
    "        \"use_depth_camera\": False,\n",
    "        \"send_measurements\": False,\n",
    "        \"enable_planner\": True,\n",
    "        \"spectator_loc\": [100, 133, 9],\n",
    "        \"sync_server\": True,\n",
    "        \"fixed_delta_seconds\": 0.05,\n",
    "    },\n",
    "    \"actors\": {\n",
    "        \"car1\": {\n",
    "            \"type\": \"vehicle_4W\",\n",
    "            \"enable_planner\": True,\n",
    "            \"convert_images_to_video\": False,\n",
    "            \"early_terminate_on_collision\": True,\n",
    "            \"reward_function\": \"corl2017\",\n",
    "            \"scenarios\": \"FOLLOWLEADING_TOWN1_CAR1\",\n",
    "            \"manual_control\": True,\n",
    "            \"auto_control\": False,\n",
    "            \"camera_type\": \"rgb\",\n",
    "            \"collision_sensor\": \"on\",\n",
    "            \"lane_sensor\": \"on\",\n",
    "            \"log_images\": False,\n",
    "            \"log_measurements\": False,\n",
    "            \"render\": True,\n",
    "            \"x_res\": 84,\n",
    "            \"y_res\": 84,\n",
    "            \"use_depth_camera\": False,\n",
    "            \"send_measurements\": False,\n",
    "        },\n",
    "        \"car2\": {\n",
    "            \"type\": \"vehicle_4W\",\n",
    "            \"enable_planner\": True,\n",
    "            \"convert_images_to_video\": False,\n",
    "            \"early_terminate_on_collision\": True,\n",
    "            \"reward_function\": \"corl2017\",\n",
    "            \"scenarios\": \"FOLLOWLEADING_TOWN1_CAR2\",\n",
    "            \"manual_control\": False,\n",
    "            \"auto_control\": True,\n",
    "            \"camera_type\": \"rgb\",\n",
    "            \"collision_sensor\": \"on\",\n",
    "            \"lane_sensor\": \"on\",\n",
    "            \"log_images\": False,\n",
    "            \"log_measurements\": False,\n",
    "            \"render\": True,\n",
    "            \"x_res\": 84,\n",
    "            \"y_res\": 84,\n",
    "            \"use_depth_camera\": False,\n",
    "            \"send_measurements\": False,\n",
    "        }\n",
    "    },\n",
    "}\n",
    "\n",
    "dict_to_yaml(configs, \"FollowLeadingVehicle.yaml\")"
   ]
  }
 ],
 "metadata": {
  "kernelspec": {
   "display_name": "torch",
   "language": "python",
   "name": "python3"
  },
  "language_info": {
   "codemirror_mode": {
    "name": "ipython",
    "version": 3
   },
   "file_extension": ".py",
   "mimetype": "text/x-python",
   "name": "python",
   "nbconvert_exporter": "python",
   "pygments_lexer": "ipython3",
   "version": "3.8.15"
  },
  "orig_nbformat": 4
 },
 "nbformat": 4,
 "nbformat_minor": 2
}
